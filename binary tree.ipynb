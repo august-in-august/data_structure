{
 "cells": [
  {
   "cell_type": "code",
   "execution_count": 1,
   "metadata": {},
   "outputs": [
    {
     "data": {
      "text/plain": [
       "'\\nTree, consider as the complicated version of linked list\\n\\neach parent node store element and point to two children, each child node may have children \\n'"
      ]
     },
     "execution_count": 1,
     "metadata": {},
     "output_type": "execute_result"
    }
   ],
   "source": [
    "#create my own binary tree!\n",
    "'''\n",
    "Tree, consider as the complicated version of linked list\n",
    "\n",
    "each parent node store element and point to two children, each child node may have children \n",
    "'''"
   ]
  },
  {
   "cell_type": "code",
   "execution_count": 26,
   "metadata": {
    "scrolled": false
   },
   "outputs": [
    {
     "name": "stdout",
     "output_type": "stream",
     "text": [
      "1 2 4 5 3 \n",
      "\n",
      "4 5 2 3 1 \n",
      "\n",
      "4 2 5 1 3 \n",
      "\n",
      "1 2 4 5 3 "
     ]
    },
    {
     "data": {
      "text/plain": [
       "True"
      ]
     },
     "execution_count": 26,
     "metadata": {},
     "output_type": "execute_result"
    }
   ],
   "source": [
    "class Node(object):\n",
    "    def __init__(self, value):\n",
    "        #each node have two children, left and right\n",
    "        self.value=value\n",
    "        self.left=None\n",
    "        self.right=None\n",
    "\n",
    "'''\n",
    "get the stucture of the tree, print the whole tree\n",
    "by go through the tree using traversal methods\n",
    "\n",
    "pick one traversal method \n",
    "in-order traversal(left-root-right)\n",
    "pre-order traversal(root-left-right)\n",
    "post-order traversal(left-right-root)\n",
    "\n",
    "'''\n",
    "class Binary_tree(object):\n",
    "    def __init__(self, root):\n",
    "        self.root=Node(root)\n",
    "\n",
    "        \n",
    "pre_o=[]\n",
    "post_o=[]\n",
    "in_o=[]\n",
    "\n",
    "#use pre-order traversal(root-left-right)\n",
    "def pre_order(root):\n",
    "    #start with root node\n",
    "    #search the nodes recursively\n",
    "    if root:\n",
    "        print(root.value, end=' ')\n",
    "        pre_o.append(root.value)\n",
    "        pre_order(root.left)\n",
    "        pre_order(root.right)\n",
    "\n",
    "def post_order(root):\n",
    "    if root:\n",
    "        post_order(root.left)\n",
    "        post_order(root.right)\n",
    "        print(root.value, end=' ')\n",
    "        post_o.append(root.value)\n",
    "        \n",
    "def in_order(root):\n",
    "    if root:\n",
    "        in_order(root.left)\n",
    "        print(root.value, end=' ')\n",
    "        in_o.append(root.value)\n",
    "        in_order(root.right)\n",
    "        \n",
    "#search the presence of a node in the tree\n",
    "def search(root, val):\n",
    "    pre_order(root)\n",
    "    return val in pre_o\n",
    "    \n",
    "#test    \n",
    "root=Node(1)\n",
    "root.left=Node(2)\n",
    "root.right=Node(3)\n",
    "root.left.left=Node(4)\n",
    "root.left.right=Node(5)\n",
    "pre_order(root)\n",
    "print('\\n')\n",
    "post_order(root)\n",
    "print('\\n')\n",
    "in_order(root)\n",
    "print('\\n')\n",
    "search(root, 5)"
   ]
  },
  {
   "cell_type": "code",
   "execution_count": null,
   "metadata": {},
   "outputs": [],
   "source": []
  },
  {
   "cell_type": "code",
   "execution_count": null,
   "metadata": {},
   "outputs": [],
   "source": []
  },
  {
   "cell_type": "code",
   "execution_count": null,
   "metadata": {},
   "outputs": [],
   "source": []
  }
 ],
 "metadata": {
  "kernelspec": {
   "display_name": "Python 3",
   "language": "python",
   "name": "python3"
  },
  "language_info": {
   "codemirror_mode": {
    "name": "ipython",
    "version": 3
   },
   "file_extension": ".py",
   "mimetype": "text/x-python",
   "name": "python",
   "nbconvert_exporter": "python",
   "pygments_lexer": "ipython3",
   "version": "3.7.5"
  }
 },
 "nbformat": 4,
 "nbformat_minor": 4
}
