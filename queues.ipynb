{
 "cells": [
  {
   "cell_type": "markdown",
   "metadata": {},
   "source": [
    "General structure of queues is 'first in, fisrt out'\n",
    "\n",
    "`(dequeue) head<--<--...<--tail (enqueue)`\n",
    "\n",
    "some other types of queues, such as deque(a double-ended queue, means you can enqueue on either end)\n"
   ]
  },
  {
   "cell_type": "markdown",
   "metadata": {},
   "source": [
    "python3 have a library called **collections** provide the queue operation\n",
    "***form collections import deque***"
   ]
  },
  {
   "cell_type": "code",
   "execution_count": 104,
   "metadata": {},
   "outputs": [],
   "source": [
    "#we can construct a normal queue using a list\n",
    "#cause queue is like a list in python and python have predefined list operations functions\n",
    "\n",
    "class Queue:\n",
    "    def __init__(self, head=None):\n",
    "        self.list=[head]\n",
    "    \n",
    "    #put element to the end of the queue\n",
    "    def enqueue(self, new_element):\n",
    "        self.list.append(new_element)\n",
    "    \n",
    "    #get the first element out of the queue\n",
    "    def dequeue(self):\n",
    "        return self.list.pop(0)\n",
    "    \n",
    "    def get_structure(self):\n",
    "        for each in self.list[:-1]:\n",
    "            print(each, end=' <-- ')\n",
    "        print(self.list[-1])"
   ]
  },
  {
   "cell_type": "code",
   "execution_count": 111,
   "metadata": {},
   "outputs": [],
   "source": [
    "#experiment\n",
    "q=Queue(1)\n",
    "q.enqueue(2)\n",
    "q.enqueue(3)\n",
    "q.enqueue(4)"
   ]
  },
  {
   "cell_type": "code",
   "execution_count": 112,
   "metadata": {},
   "outputs": [
    {
     "name": "stdout",
     "output_type": "stream",
     "text": [
      "1 <-- 2 <-- 3 <-- 4\n"
     ]
    }
   ],
   "source": [
    "q.get_structure()"
   ]
  },
  {
   "cell_type": "code",
   "execution_count": 113,
   "metadata": {},
   "outputs": [
    {
     "data": {
      "text/plain": [
       "1"
      ]
     },
     "execution_count": 113,
     "metadata": {},
     "output_type": "execute_result"
    }
   ],
   "source": [
    "q.dequeue()"
   ]
  },
  {
   "cell_type": "code",
   "execution_count": 114,
   "metadata": {},
   "outputs": [],
   "source": [
    "q.enqueue(5)"
   ]
  },
  {
   "cell_type": "code",
   "execution_count": 115,
   "metadata": {},
   "outputs": [
    {
     "name": "stdout",
     "output_type": "stream",
     "text": [
      "2 <-- 3 <-- 4 <-- 5\n"
     ]
    }
   ],
   "source": [
    "q.get_structure()"
   ]
  },
  {
   "cell_type": "code",
   "execution_count": 116,
   "metadata": {},
   "outputs": [
    {
     "data": {
      "text/plain": [
       "2"
      ]
     },
     "execution_count": 116,
     "metadata": {},
     "output_type": "execute_result"
    }
   ],
   "source": [
    "q.dequeue()"
   ]
  },
  {
   "cell_type": "code",
   "execution_count": 117,
   "metadata": {},
   "outputs": [
    {
     "name": "stdout",
     "output_type": "stream",
     "text": [
      "3 <-- 4 <-- 5\n"
     ]
    }
   ],
   "source": [
    "q.get_structure()"
   ]
  }
 ],
 "metadata": {
  "kernelspec": {
   "display_name": "Python 3",
   "language": "python",
   "name": "python3"
  },
  "language_info": {
   "codemirror_mode": {
    "name": "ipython",
    "version": 3
   },
   "file_extension": ".py",
   "mimetype": "text/x-python",
   "name": "python",
   "nbconvert_exporter": "python",
   "pygments_lexer": "ipython3",
   "version": "3.6.2"
  }
 },
 "nbformat": 4,
 "nbformat_minor": 4
}
