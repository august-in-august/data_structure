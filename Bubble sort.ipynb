{
 "cells": [
  {
   "cell_type": "markdown",
   "metadata": {},
   "source": [
    "Bubble/Sinking sort explination\n",
    "https://en.wikipedia.org/wiki/Bubble_sort"
   ]
  },
  {
   "cell_type": "code",
   "execution_count": null,
   "metadata": {},
   "outputs": [],
   "source": [
    "#compare the sorting methods\n",
    "#in place sorting(withou create new space, which don't need to consider space complexity, as constant)\n",
    "\n",
    "'''\n",
    "space efficiency n(1)\n",
    "\n",
    "time efficiency: each iteration need to comapre n-1 times, for n-1 iterations: (n-1)(n-1)\n",
    "    worst case: n(n^2)\n",
    "    average case: n(n^2)\n",
    "    best case: n(n)\n",
    "'''"
   ]
  },
  {
   "cell_type": "markdown",
   "metadata": {},
   "source": [
    "https://visualgo.net/en"
   ]
  },
  {
   "cell_type": "code",
   "execution_count": 41,
   "metadata": {},
   "outputs": [],
   "source": [
    "#define a qucksort list\n",
    "#get an array and return the sorted array\n",
    "from numpy.random import randint\n",
    "def quick_sort(arr):\n",
    "    #select the first or last as pivot\n",
    "    #i=randint(len(arr))\n",
    "    pivot=arr[-1]\n",
    "    \n",
    "    left=arr[:pivot]\n",
    "    right=arr[pivot+1:]\n",
    "    sorted=[]\n",
    "\n",
    "    print(left)\n",
    "    print(right)"
   ]
  },
  {
   "cell_type": "code",
   "execution_count": null,
   "metadata": {},
   "outputs": [],
   "source": []
  },
  {
   "cell_type": "code",
   "execution_count": 42,
   "metadata": {},
   "outputs": [
    {
     "name": "stdout",
     "output_type": "stream",
     "text": [
      "[21, 4, 1]\n",
      "[9, 20, 25, 6, 21, 14]\n"
     ]
    }
   ],
   "source": [
    "arr1=[21, 4, 1, 3, 9, 20, 25, 6, 21, 14]\n",
    "quick_sort(arr1)"
   ]
  },
  {
   "cell_type": "code",
   "execution_count": null,
   "metadata": {},
   "outputs": [],
   "source": []
  },
  {
   "cell_type": "code",
   "execution_count": null,
   "metadata": {},
   "outputs": [],
   "source": [
    "for each (unsorted) partition\n",
    "\n",
    "set first element as pivot\n",
    "\n",
    "  storeIndex = pivotIndex + 1\n",
    "\n",
    "  for i = pivotIndex + 1 to rightmostIndex\n",
    "\n",
    "    if element[i] < element[pivot]\n",
    "\n",
    "      swap(i, storeIndex); storeIndex++\n",
    "\n",
    "  swap(pivot, storeIndex - 1)"
   ]
  }
 ],
 "metadata": {
  "kernelspec": {
   "display_name": "Python 3",
   "language": "python",
   "name": "python3"
  },
  "language_info": {
   "codemirror_mode": {
    "name": "ipython",
    "version": 3
   },
   "file_extension": ".py",
   "mimetype": "text/x-python",
   "name": "python",
   "nbconvert_exporter": "python",
   "pygments_lexer": "ipython3",
   "version": "3.6.2"
  }
 },
 "nbformat": 4,
 "nbformat_minor": 4
}
