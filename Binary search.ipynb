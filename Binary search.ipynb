{
 "cells": [
  {
   "cell_type": "code",
   "execution_count": 1,
   "metadata": {},
   "outputs": [],
   "source": [
    "#algorithm can be think of the high level description of the tricks for solving the problme"
   ]
  },
  {
   "cell_type": "markdown",
   "metadata": {},
   "source": [
    "#visualization of binary search\n",
    "http://www.cs.armstrong.edu/liang/animation/web/BinarySearch.html\n",
    "https://www.cs.usfca.edu/~galles/visualization/Search.html"
   ]
  },
  {
   "cell_type": "code",
   "execution_count": 3,
   "metadata": {},
   "outputs": [],
   "source": [
    "#for binary search, elements need to be arrange in increasing order, has only distinct elements.\n",
    "\n",
    "#list as basic data type of Python, help to store the elements "
   ]
  },
  {
   "cell_type": "code",
   "execution_count": 21,
   "metadata": {},
   "outputs": [],
   "source": [
    "#do binary search to find the value in given array\n",
    "#reutrn the index of the value in the array\n",
    "def binary_search(array, value):\n",
    "    #need three indexs, start, end and middle\n",
    "    #middel index\n",
    "    middle=array[len(array)//2]\n",
    "    start=0\n",
    "    end=len(array)-1\n",
    "\n",
    "    while(start<=end):\n",
    "        middle=(start+end)//2\n",
    "        \n",
    "        if array[middle]<value:\n",
    "            #go ritht\n",
    "            start=middle+1\n",
    "        elif array[middle]>value:\n",
    "            #go left\n",
    "            end=middle-1\n",
    "        else:\n",
    "            return middle\n",
    "        \n",
    "    return -1\n"
   ]
  },
  {
   "cell_type": "code",
   "execution_count": 22,
   "metadata": {},
   "outputs": [
    {
     "name": "stdout",
     "output_type": "stream",
     "text": [
      "1\n"
     ]
    }
   ],
   "source": [
    "list_1=[1,12,23,45,67,89,399,522,1093,39484]\n",
    "val_1=12\n",
    "print(binary_search(list_1, val_1))"
   ]
  },
  {
   "cell_type": "code",
   "execution_count": 23,
   "metadata": {},
   "outputs": [
    {
     "data": {
      "text/plain": [
       "6"
      ]
     },
     "execution_count": 23,
     "metadata": {},
     "output_type": "execute_result"
    }
   ],
   "source": [
    "val_2=399\n",
    "binary_search(list_1, val_2)"
   ]
  },
  {
   "cell_type": "code",
   "execution_count": 25,
   "metadata": {},
   "outputs": [
    {
     "data": {
      "text/plain": [
       "-1"
      ]
     },
     "execution_count": 25,
     "metadata": {},
     "output_type": "execute_result"
    }
   ],
   "source": [
    "val_3=454667\n",
    "binary_search(list_1, val_3)"
   ]
  },
  {
   "cell_type": "code",
   "execution_count": 28,
   "metadata": {},
   "outputs": [
    {
     "data": {
      "text/plain": [
       "-1"
      ]
     },
     "execution_count": 28,
     "metadata": {},
     "output_type": "execute_result"
    }
   ],
   "source": [
    "val_3=450\n",
    "binary_search(list_1, val_3)"
   ]
  }
 ],
 "metadata": {
  "kernelspec": {
   "display_name": "Python 3",
   "language": "python",
   "name": "python3"
  },
  "language_info": {
   "codemirror_mode": {
    "name": "ipython",
    "version": 3
   },
   "file_extension": ".py",
   "mimetype": "text/x-python",
   "name": "python",
   "nbconvert_exporter": "python",
   "pygments_lexer": "ipython3",
   "version": "3.6.2"
  }
 },
 "nbformat": 4,
 "nbformat_minor": 4
}
