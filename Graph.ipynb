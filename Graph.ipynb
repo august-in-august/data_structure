{
 "cells": [
  {
   "cell_type": "code",
   "execution_count": null,
   "metadata": {},
   "outputs": [],
   "source": [
    "# Graph\n",
    "'''\n",
    "Graphs with nodes and edges\n",
    "\n",
    "'''"
   ]
  },
  {
   "cell_type": "code",
   "execution_count": 131,
   "metadata": {},
   "outputs": [],
   "source": [
    "import numpy as np\n",
    "\n",
    "class Node(object):\n",
    "    #nodes store value and the edges which connected to it\n",
    "    def __init__(self, value):\n",
    "        self.value=value\n",
    "        self.edges=[]\n",
    "        \n",
    "class Edge(object):\n",
    "    #value of edges represent the different types of relations between nodes\n",
    "    #directed graph need to record the direction between the nodes\n",
    "    def __init__(self, value, node_from, node_to):\n",
    "        self.value=value\n",
    "        self.node_from=node_from\n",
    "        self.node_to=node_to\n",
    "               \n",
    "class Graph(object):\n",
    "    #contains lists of nodes and edges\n",
    "    #if the graph is disconnected, not every node will be tied to an edge,\n",
    "    #should store a list of nodes\n",
    "    def __init__(self, nodes=[], edges=[]):\n",
    "        self.nodes=nodes\n",
    "        self.edges=edges\n",
    "        \n",
    "    #as we store both nodes and edges of the graph\n",
    "    #when insert a node or edge, both the list of nodes and edges need keep updated\n",
    "    #assumne each value is unique\n",
    "    def insert_node(self, node_val):\n",
    "        #generate new node\n",
    "        new_node=Node(node_val)\n",
    "        #update the node list\n",
    "        self.nodes.append(new_node)\n",
    "                             \n",
    "    def insert_edge(self, edge_val, from_val, to_val):\n",
    "        #generate new edge\n",
    "        #new_edge=Edge(edge_val, from_val, to_val) \n",
    "        #update the edge list\n",
    "        #check the statue by checking the node statu\n",
    "        #in case the node not exist, check the node frist\n",
    "        from_check=None\n",
    "        to_check=None\n",
    "        for node in self.nodes:\n",
    "            #node existed\n",
    "            if node.value==from_val:\n",
    "                from_check=node\n",
    "            if node.value==to_val:\n",
    "                to_check=node\n",
    "        if from_check==None:\n",
    "            #not collipsed\n",
    "            #generate new node and update the node list\n",
    "            from_check=Node(from_val)\n",
    "            self.nodes.append(from_check)\n",
    "        if to_check==None:\n",
    "            to_check=Node(to_val)\n",
    "            self.nodes.append(to_check)   \n",
    "        #connect the edges to nodes\n",
    "        new_edge=Edge(edge_val, from_val, to_val)\n",
    "        from_check.edges.append(new_edge)\n",
    "        to_check.edges.append(new_edge)\n",
    "        self.edges.append(new_edge)\n",
    "            \n",
    "    def get_nodes(self):\n",
    "        node_list=[]\n",
    "        for each in self.nodes:\n",
    "            node_list.append(each.value)\n",
    "\n",
    "        return node_list\n",
    "    \n",
    "    def get_edges(self):\n",
    "        edge_list=[]\n",
    "        for each in self.edges:\n",
    "            edge=(each.value, each.node_from, each.node_to)\n",
    "            edge_list.append(edge)\n",
    "        return edge_list\n",
    "    \n",
    "    def get_adjacency_matrix(self):\n",
    "        #rectangular matrix\n",
    "        #find the range of the index\n",
    "        max=0\n",
    "        if len(self.nodes):\n",
    "            for node in self.nodes:\n",
    "                if node.value>max:\n",
    "                    max=node.value\n",
    "        \n",
    "        #max as the biggest number of nodes\n",
    "        #decide the size of matrix\n",
    "        \n",
    "        #adj_matrix=[[0 for i in range(max+1)] for j in range(max+1)]\n",
    "        adj_matrix=np.zeros((max+1)*(max+1), dtype=int).reshape((max+1,max+1))\n",
    "        \n",
    "        for edge in self.edges:\n",
    "            #print('{} {} {} '.format(edge.node_from, edge.node_to, edge.value))\n",
    "            adj_matrix[edge.node_from][edge.node_to]=edge.value\n",
    "        \n",
    "        return adj_matrix\n",
    "        "
   ]
  },
  {
   "cell_type": "code",
   "execution_count": 132,
   "metadata": {},
   "outputs": [],
   "source": [
    "graph = Graph()\n",
    "graph.insert_edge(100, 1, 2)\n",
    "graph.insert_edge(101, 1, 3)\n",
    "graph.insert_edge(102, 1, 4)\n",
    "graph.insert_edge(103, 3, 4)"
   ]
  },
  {
   "cell_type": "code",
   "execution_count": 133,
   "metadata": {},
   "outputs": [
    {
     "name": "stdout",
     "output_type": "stream",
     "text": [
      "[1, 2, 3, 4]\n"
     ]
    }
   ],
   "source": [
    "print(graph.get_nodes())"
   ]
  },
  {
   "cell_type": "code",
   "execution_count": 134,
   "metadata": {
    "scrolled": true
   },
   "outputs": [
    {
     "name": "stdout",
     "output_type": "stream",
     "text": [
      "[(100, 1, 2), (101, 1, 3), (102, 1, 4), (103, 3, 4)]\n",
      "[[  0   0   0   0   0]\n",
      " [  0   0 100 101 102]\n",
      " [  0   0   0   0   0]\n",
      " [  0   0   0   0 103]\n",
      " [  0   0   0   0   0]]\n"
     ]
    }
   ],
   "source": [
    "# Should be [(100, 1, 2), (101, 1, 3), (102, 1, 4), (103, 3, 4)]\n",
    "print(graph.get_edges())\n",
    "\n",
    "# Should be [[0, 0, 0, 0, 0], [0, 0, 100, 101, 102], [0, 0, 0, 0, 0], [0, 0, 0, 0, 103], [0, 0, 0, 0, 0]]\n",
    "print(graph.get_adjacency_matrix())"
   ]
  },
  {
   "cell_type": "code",
   "execution_count": null,
   "metadata": {},
   "outputs": [],
   "source": []
  },
  {
   "cell_type": "code",
   "execution_count": null,
   "metadata": {},
   "outputs": [],
   "source": []
  }
 ],
 "metadata": {
  "kernelspec": {
   "display_name": "Python 3",
   "language": "python",
   "name": "python3"
  },
  "language_info": {
   "codemirror_mode": {
    "name": "ipython",
    "version": 3
   },
   "file_extension": ".py",
   "mimetype": "text/x-python",
   "name": "python",
   "nbconvert_exporter": "python",
   "pygments_lexer": "ipython3",
   "version": "3.7.5"
  }
 },
 "nbformat": 4,
 "nbformat_minor": 2
}
