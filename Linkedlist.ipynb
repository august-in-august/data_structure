{
 "cells": [
  {
   "cell_type": "code",
   "execution_count": 1,
   "metadata": {},
   "outputs": [],
   "source": [
    "#linked list with Python\n",
    "#python 3.7"
   ]
  },
  {
   "cell_type": "code",
   "execution_count": 146,
   "metadata": {},
   "outputs": [],
   "source": [
    "#linked list isn't a built-in data structure like array in Python\n",
    "\n",
    "#use an element represent for a single unit\n",
    "class Element(object):\n",
    "    def __init__(self, value):\n",
    "        self.value=value\n",
    "        self.next=None\n",
    "        \n",
    "#the value of a single unit could be anything => number, string, chracter...\n",
    "#next varaiable points to the \"NEXT\" element\n",
    "\n",
    "#set up a linkedlist\n",
    "\n",
    "class LinkedList(object):\n",
    "    def __init__(self, head=None):\n",
    "        self.head=head\n",
    "\n",
    "#Head is the first element in the list\n",
    "    \n",
    "    \n",
    "    #write a function in order to visual the general structure of the linkedlist\n",
    "    def getInfo(self):\n",
    "        current=self.head\n",
    "        while current.next:\n",
    "            print('%d -->'%current.value, end=' ')\n",
    "            current=current.next\n",
    "        print(str(current.value))\n",
    "\n",
    "    #try to add a new 'Element' to the end of 'LinkedList'\n",
    "\n",
    "    def append(self, new_element):\n",
    "        #remember each element has 'value' and 'next'\n",
    "        current=self.head\n",
    "        #if no 'head' in the 'LinkedList'\n",
    "\n",
    "        if not self.head:\n",
    "            self.head=new_element\n",
    "        #else, iterate throught the list and add the element to the end\n",
    "        else:\n",
    "            while current.next:\n",
    "                current=current.next\n",
    "            current.next=new_element\n",
    "    \n",
    "\n",
    "    \"\"\"to exame if the linkedlist working,\n",
    "    we need a function to get the element at a certain position\"\"\"\n",
    "    def get_position(self, position):\n",
    "        #！make sure the element in the linkedlist\n",
    "        #position as a number\n",
    "        #assume position start with 1 instead of 0\n",
    "        current=self.head\n",
    "        i=1\n",
    "        if position<1:\n",
    "            return None\n",
    "\n",
    "        while i<position:\n",
    "            current=current.next\n",
    "            i=i+1\n",
    "        return current\n",
    "        \n",
    "    \"\"\"insert an element to the linkedlist\n",
    "        start with 1\n",
    "        insert 4 means the element insert between 3rd and 4th\n",
    "        sign the 'new.next=orignial' to orginal element\n",
    "        and 'the prevous.next=new'\n",
    "    \"\"\"\n",
    "    def insert(self, new_element, position):\n",
    "        current=self.head\n",
    "        i=1\n",
    "        #insert to the first node\n",
    "        if i==position:\n",
    "            new_element.next=current\n",
    "            self.head=new_element\n",
    "        elif position>1:\n",
    "            while i<position:\n",
    "                if i==position-1:\n",
    "                    new_element.next=current.next\n",
    "                    current.next=new_element\n",
    "                current=current.next\n",
    "                i=i+1\n",
    "        \n",
    "    \"\"\"delete an element with the given position\"\"\"\n",
    "    def delete(self, position):\n",
    "        current=self.head\n",
    "        #need to create connection between the previous and the next value\n",
    "        #if delete the middle node\n",
    "        #set a previous value\n",
    "        previous=None\n",
    "        i=1\n",
    "        if position==1:\n",
    "            print(\"the deleted value is:\",current.value)\n",
    "            current=current.next\n",
    "            self.head=current\n",
    "        else:\n",
    "            while i<=position:\n",
    "                if i==position-1 and current.next.next:\n",
    "                    print(\"the deleted value is:\",current.next.value)\n",
    "                    current.next=current.next.next  \n",
    "                    break;\n",
    "                if i==position-1 and current.next.next is None:\n",
    "                    print('the deleted value is:', current.next.value)\n",
    "                    current.next=None\n",
    "                    break;\n",
    "                    \n",
    "                current=current.next\n",
    "                i=i+1\n",
    "            \n",
    "        "
   ]
  },
  {
   "cell_type": "code",
   "execution_count": 179,
   "metadata": {},
   "outputs": [
    {
     "name": "stdout",
     "output_type": "stream",
     "text": [
      "1 --> 2 --> 3\n"
     ]
    }
   ],
   "source": [
    "# Test \n",
    "# assign elements\n",
    "e1 = Element(1)\n",
    "e2 = Element(2)\n",
    "e3 = Element(3)\n",
    "e4 = Element(4)\n",
    "\n",
    "# generate a LinkedList\n",
    "ll = LinkedList(e1)\n",
    "ll.append(e2)\n",
    "ll.append(e3)\n",
    "ll.getInfo()"
   ]
  },
  {
   "cell_type": "code",
   "execution_count": 180,
   "metadata": {},
   "outputs": [
    {
     "data": {
      "text/plain": [
       "True"
      ]
     },
     "execution_count": 180,
     "metadata": {},
     "output_type": "execute_result"
    }
   ],
   "source": [
    "# Test get_position\n",
    "ll.head.next.next.value==ll.get_position(3).value"
   ]
  },
  {
   "cell_type": "code",
   "execution_count": 181,
   "metadata": {},
   "outputs": [
    {
     "name": "stdout",
     "output_type": "stream",
     "text": [
      "4\n",
      "1 --> 2 --> 4 --> 3\n"
     ]
    }
   ],
   "source": [
    "# Test insert\n",
    "ll.insert(e4,3)\n",
    "# Should print 4 now\n",
    "print(ll.get_position(3).value)\n",
    "ll.getInfo()"
   ]
  },
  {
   "cell_type": "code",
   "execution_count": 182,
   "metadata": {},
   "outputs": [
    {
     "name": "stdout",
     "output_type": "stream",
     "text": [
      "the deleted value is: 3\n",
      "1 --> 2 --> 4\n"
     ]
    }
   ],
   "source": [
    "# Test delete\n",
    "ll.delete(4)\n",
    "ll.getInfo()"
   ]
  }
 ],
 "metadata": {
  "kernelspec": {
   "display_name": "Python 3",
   "language": "python",
   "name": "python3"
  },
  "language_info": {
   "codemirror_mode": {
    "name": "ipython",
    "version": 3
   },
   "file_extension": ".py",
   "mimetype": "text/x-python",
   "name": "python",
   "nbconvert_exporter": "python",
   "pygments_lexer": "ipython3",
   "version": "3.7.5"
  }
 },
 "nbformat": 4,
 "nbformat_minor": 4
}
