{
 "cells": [
  {
   "cell_type": "markdown",
   "metadata": {},
   "source": [
    "**map** `<key, value>`\n",
    "\n",
    "find the value by key\n",
    "similar to dictionary in python! as built-in data type => ``dictionary``"
   ]
  },
  {
   "cell_type": "markdown",
   "metadata": {},
   "source": [
    "**set**\n",
    "\n",
    "consider as a bag of keys without order\n",
    "A group of keys is a set"
   ]
  },
  {
   "cell_type": "code",
   "execution_count": 2,
   "metadata": {},
   "outputs": [],
   "source": [
    "#use dictionary to represent the map\n",
    "locations = {'North America': {'USA': ['Mountain View']}}\n"
   ]
  },
  {
   "cell_type": "code",
   "execution_count": 3,
   "metadata": {},
   "outputs": [],
   "source": [
    "locations['Asia']={'India': ['Bangalore']}\n",
    "locations['North America']['USA'].append('Atlanta')\n",
    "locations['Africa']={'Egypt': ['Cairo']}\n",
    "locations['Asia']['China']=['Shanghai']"
   ]
  },
  {
   "cell_type": "code",
   "execution_count": 4,
   "metadata": {},
   "outputs": [
    {
     "name": "stdout",
     "output_type": "stream",
     "text": [
      "Atlanta\n",
      "Mountain View\n"
     ]
    }
   ],
   "source": [
    "for each in sorted(locations['North America']['USA']):\n",
    "    print(each)"
   ]
  },
  {
   "cell_type": "code",
   "execution_count": 5,
   "metadata": {},
   "outputs": [],
   "source": [
    "asian_cities=[]\n",
    "for countries, cities in locations['Asia'].items():\n",
    "    city_coutry=cities[0] + \"--\" + countries\n",
    "    asian_cities.append(city_coutry)"
   ]
  },
  {
   "cell_type": "code",
   "execution_count": 6,
   "metadata": {},
   "outputs": [
    {
     "name": "stdout",
     "output_type": "stream",
     "text": [
      "Bangalore--India\n",
      "Shanghai--China\n"
     ]
    }
   ],
   "source": [
    "for each in sorted(asian_cities):\n",
    "    print(each)"
   ]
  },
  {
   "cell_type": "code",
   "execution_count": null,
   "metadata": {},
   "outputs": [],
   "source": []
  },
  {
   "cell_type": "markdown",
   "metadata": {},
   "source": [
    "### Implement a hash table"
   ]
  },
  {
   "cell_type": "code",
   "execution_count": 7,
   "metadata": {},
   "outputs": [],
   "source": [
    "\"\"\"Write a HashTable class that stores strings\n",
    "in a hash table, where keys are calculated\n",
    "using the first two letters of the string.\"\"\"\n",
    "\n",
    "class HashTable(object):\n",
    "    def __init__(self):\n",
    "        #size of the hash table\n",
    "        self.table = [None]*10000\n",
    "\n",
    "    def store(self, string):\n",
    "        \"\"\"Input a string that's stored in \n",
    "        the table.\"\"\"\n",
    "        hashed_value=self.calculate_hash_value(string)\n",
    "        if hashed_value!=-1:\n",
    "            if self.table[hashed_value]!=None:\n",
    "                self.table[hashed_value].append(string)\n",
    "            else:\n",
    "                self.table[hashed_value]=[string]\n",
    "\n",
    "    def lookup(self, string):\n",
    "        \"\"\"Return the hash value if the\n",
    "        string is already in the table.\n",
    "        Return -1 otherwise.\"\"\"\n",
    "        hashed_value=self.calculate_hash_value(string)\n",
    "        if hashed_value!=-1:\n",
    "            if self.table[hashed_value] !=None:\n",
    "                if string in self.table[hashed_value]:\n",
    "                    return hashed_value\n",
    "        return -1\n",
    "\n",
    "    def calculate_hash_value(self, string):\n",
    "        \"\"\"Helper function to calulate a\n",
    "        hash value from a string.\"\"\"\n",
    "        val_1=ord(string[0])\n",
    "        val_2=ord(string[1])\n",
    "        \n",
    "        hash_value=val_1*100+val_2\n",
    "        \n",
    "        return hash_value\n",
    "    "
   ]
  },
  {
   "cell_type": "code",
   "execution_count": 10,
   "metadata": {},
   "outputs": [
    {
     "name": "stdout",
     "output_type": "stream",
     "text": [
      "7173\n",
      "-1\n"
     ]
    }
   ],
   "source": [
    "# Setup\n",
    "hash_table = HashTable()\n",
    "\n",
    "print(hash_table.calculate_hash_value('GITHUB'))\n",
    "print(hash_table.lookup('GITHUB'))"
   ]
  },
  {
   "cell_type": "code",
   "execution_count": 12,
   "metadata": {},
   "outputs": [
    {
     "name": "stdout",
     "output_type": "stream",
     "text": [
      "7173\n"
     ]
    }
   ],
   "source": [
    "# Test store\n",
    "hash_table.store('GITHUB')\n",
    "print(hash_table.lookup('GITHUB'))"
   ]
  }
 ],
 "metadata": {
  "kernelspec": {
   "display_name": "Python 3",
   "language": "python",
   "name": "python3"
  },
  "language_info": {
   "codemirror_mode": {
    "name": "ipython",
    "version": 3
   },
   "file_extension": ".py",
   "mimetype": "text/x-python",
   "name": "python",
   "nbconvert_exporter": "python",
   "pygments_lexer": "ipython3",
   "version": "3.7.5"
  }
 },
 "nbformat": 4,
 "nbformat_minor": 4
}
