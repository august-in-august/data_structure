{
 "cells": [
  {
   "cell_type": "markdown",
   "metadata": {},
   "source": [
    "#we can use inner-built lists to implement Stack\n",
    "https://docs.python.org/2/tutorial/datastructures.html#using-lists-as-stacks"
   ]
  },
  {
   "cell_type": "code",
   "execution_count": 121,
   "metadata": {},
   "outputs": [],
   "source": [
    "class Element(object):\n",
    "    def __init__(self, value):\n",
    "        self.value=value\n",
    "        self.next=None\n",
    "\n",
    "#use linkedlist to generate Stack\n",
    "#to implement the 'push' and 'pop' for Stack\n",
    "#means insert and delete the first element of the linkedlist\n",
    "class LinkedList(object):\n",
    "    def __init__(self, head=None):\n",
    "        self.head=head\n",
    "            \n",
    "    def insert_first(self, new_element):\n",
    "        new_element.next=self.head\n",
    "        self.head=new_element\n",
    "\n",
    "    def delete_first(self):\n",
    "        if self.head:\n",
    "            \n",
    "            #self.head=self.head.next\n",
    "            #return self.head\n",
    "            #=> need temp to store the value\n",
    "            temp_element=self.head\n",
    "            self.head=self.head.next\n",
    "            return temp_element\n",
    "        else:\n",
    "            return None\n",
    "        \n",
    "    def getInfo(self):\n",
    "        tem=[]\n",
    "        current=self.head\n",
    "        while current.next:\n",
    "            tem.append(current.value)\n",
    "            current=current.next\n",
    "        tem.append(current.value)\n",
    "        \n",
    "        #tem=tem[::-1]\n",
    "        for each in tem:\n",
    "            print(each)\n",
    "            \n",
    "        \n",
    "        \n",
    "class Stack(object):\n",
    "    def __init__(self, top=None):\n",
    "        #top means the first element of the Stack\n",
    "        #use linkedlist to fulfill the functionality of the Stack\n",
    "        self.ll=LinkedList(top)\n",
    "    \n",
    "    def push(self, new_element):\n",
    "        self.ll.insert_first(new_element)\n",
    "    \n",
    "    def pop(self):\n",
    "        return self.ll.delete_first()\n",
    "    \n",
    "    def getStack(self):\n",
    "        self.ll.getInfo()"
   ]
  },
  {
   "cell_type": "code",
   "execution_count": 122,
   "metadata": {},
   "outputs": [],
   "source": [
    "e1=Element(1)\n",
    "e2 = Element(2)\n",
    "e3 = Element(3)\n",
    "e4 = Element(4)\n",
    "\n",
    "# Start setting up a Stack\n",
    "stack = Stack(e1)\n",
    "\n",
    "# Test stack functionality\n",
    "stack.push(e2)\n",
    "stack.push(e3)\n",
    "stack.push(e4)"
   ]
  },
  {
   "cell_type": "code",
   "execution_count": 123,
   "metadata": {},
   "outputs": [
    {
     "name": "stdout",
     "output_type": "stream",
     "text": [
      "4\n",
      "3\n",
      "2\n",
      "1\n"
     ]
    }
   ],
   "source": [
    "stack.getStack()"
   ]
  },
  {
   "cell_type": "code",
   "execution_count": 124,
   "metadata": {},
   "outputs": [
    {
     "data": {
      "text/plain": [
       "4"
      ]
     },
     "execution_count": 124,
     "metadata": {},
     "output_type": "execute_result"
    }
   ],
   "source": [
    "stack.pop().value"
   ]
  },
  {
   "cell_type": "code",
   "execution_count": 125,
   "metadata": {},
   "outputs": [
    {
     "data": {
      "text/plain": [
       "3"
      ]
     },
     "execution_count": 125,
     "metadata": {},
     "output_type": "execute_result"
    }
   ],
   "source": [
    "stack.pop().value"
   ]
  },
  {
   "cell_type": "code",
   "execution_count": 126,
   "metadata": {},
   "outputs": [
    {
     "name": "stdout",
     "output_type": "stream",
     "text": [
      "2\n",
      "1\n"
     ]
    }
   ],
   "source": [
    "stack.getStack()"
   ]
  },
  {
   "cell_type": "code",
   "execution_count": 127,
   "metadata": {},
   "outputs": [],
   "source": [
    "stack.push(e3)"
   ]
  },
  {
   "cell_type": "code",
   "execution_count": 128,
   "metadata": {},
   "outputs": [
    {
     "name": "stdout",
     "output_type": "stream",
     "text": [
      "3\n",
      "2\n",
      "1\n"
     ]
    }
   ],
   "source": [
    "stack.getStack()"
   ]
  },
  {
   "cell_type": "raw",
   "metadata": {},
   "source": [
    "\"\"\"\n",
    "As every operation on a linedlist must start with the head node\n",
    "if you operate the last element, it requires us to travel everything.\n",
    "thus it's better to write new methods to operate the node \n",
    "rather than use the 'append' method of list, \n",
    "\"\"\"\n"
   ]
  },
  {
   "cell_type": "code",
   "execution_count": null,
   "metadata": {},
   "outputs": [],
   "source": []
  }
 ],
 "metadata": {
  "kernelspec": {
   "display_name": "Python 3",
   "language": "python",
   "name": "python3"
  },
  "language_info": {
   "codemirror_mode": {
    "name": "ipython",
    "version": 3
   },
   "file_extension": ".py",
   "mimetype": "text/x-python",
   "name": "python",
   "nbconvert_exporter": "python",
   "pygments_lexer": "ipython3",
   "version": "3.7.5"
  }
 },
 "nbformat": 4,
 "nbformat_minor": 4
}
